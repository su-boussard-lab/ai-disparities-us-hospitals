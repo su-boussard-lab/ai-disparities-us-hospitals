{
 "cells": [
  {
   "cell_type": "markdown",
   "metadata": {},
   "source": [
    "## A1. Data Preprocessing – Hospital Data\n",
    "\n",
    "**Description**  \n",
    "This section preprocesses hospital-level data from the American Hospital Association (AHA) dataset.  \n",
    "It includes steps such as data loading, filtering, recoding, and cleaning to prepare the dataset for analysis of hospital characteristics.\n",
    "\n",
    "**Data Source**  \n",
    "- American Hospital Association (AHA) Annual Survey and IT Supplement (Year: 2023, 2024)  \n",
    "- Catherine E Strawley, Julia Adler-Milstein, A Jay Holmgren, Jordan Everson, New indices to track interoperability among US hospitals, Journal of the American Medical Informatics Association, Volume 32, Issue 2, February 2025, Pages 318–327\n",
    "\n",
    "**Purpose**  \n",
    "To create a cleaned, analysis-ready dataset that supports downstream tasks\n",
    "\n",
    "**Input**  \n",
    "- 2023 AHA Survey (AHA_recent5yrs.csv -> AHA2023) and IT supplement data (2023AHAIT.csv)\n",
    "\n",
    "**Output**\n",
    "- AHA2023_master.csv\n"
   ]
  },
  {
   "cell_type": "markdown",
   "metadata": {},
   "source": [
    "### 1. load necessary libraries"
   ]
  },
  {
   "cell_type": "code",
   "execution_count": null,
   "metadata": {},
   "outputs": [],
   "source": [
    "## load libraries \n",
    "# Import standard Python libraries\n",
    "import getpass  \n",
    "import re \n",
    "import json \n",
    "import sys  \n",
    "\n",
    "# Import data analysis and visualization libraries\n",
    "import pandas as pd \n",
    "import numpy as np  \n",
    "import seaborn as sns  \n",
    "import matplotlib.pyplot as plt  \n",
    "\n",
    "# Import datetime utilities\n",
    "from datetime import datetime, timedelta  \n",
    "\n",
    "\n",
    "# Import operating system utilities\n",
    "import os  \n",
    "\n"
   ]
  },
  {
   "cell_type": "markdown",
   "metadata": {},
   "source": [
    "### 2. load annual survey data "
   ]
  },
  {
   "cell_type": "code",
   "execution_count": null,
   "metadata": {},
   "outputs": [],
   "source": [
    "# Define the file path to the AHA dataset (last 5 years)\n",
    "AHA_AS_path = \"../../../data/AHA/AHA_recent5yrs.csv\"\n",
    "\n",
    "# Load the dataset into a DataFrame\n",
    "AHA_AS_df = pd.read_csv(AHA_AS_path, low_memory=False)\n",
    "\n",
    "# Subset the data to include only records from the year 2023\n",
    "AHA2023 = AHA_AS_df[AHA_AS_df.YEAR == 2023]"
   ]
  },
  {
   "cell_type": "markdown",
   "metadata": {},
   "source": [
    "### 3. load AHA IT supplement data "
   ]
  },
  {
   "cell_type": "code",
   "execution_count": null,
   "metadata": {},
   "outputs": [],
   "source": [
    "# Define the file path to the 2023 AHA IT Supplement dataset\n",
    "AHA_IT_path = \"../../../data/AHA/aha_it_survey_3years.csv\"\n",
    "\n",
    "# Load the IT dataset\n",
    "AHA_IT_recent = pd.read_csv(AHA_IT_path, low_memory=False)\n"
   ]
  },
  {
   "cell_type": "code",
   "execution_count": null,
   "metadata": {},
   "outputs": [],
   "source": [
    "# Split by year\n",
    "df24 = AHA_IT_recent.query(\"year == 2024\").copy()\n",
    "df23 = AHA_IT_recent.query(\"year == 2023\").copy()"
   ]
  },
  {
   "cell_type": "code",
   "execution_count": null,
   "metadata": {},
   "outputs": [],
   "source": [
    "# Merge so each hospital's 2024 row lines up with its 2023 row\n",
    "merged = df24.merge(df23, on='id', how='outer', suffixes=('_2024', '_2023'))\n",
    "# Add indicators for whether each hospital responded in 2024 or 2023\n",
    "merged['responded_2024'] = merged['year_2024'].notna().astype(int)\n",
    "merged['responded_2023'] = merged['year_2023'].notna().astype(int)\n",
    "\n",
    "# Add a data source indicator\n",
    "AHA_IT_prioritized['data_source_year'] = merged.apply(\n",
    "    lambda row: '2024' if pd.notna(row['year_2024']) else '2023' if pd.notna(row['year_2023']) else 'None', \n",
    "    axis=1\n",
    ")\n",
    "# Copy the indicators to your prioritized DataFrame\n",
    "AHA_IT_prioritized['responded_2024'] = merged['responded_2024']\n",
    "AHA_IT_prioritized['responded_2023'] = merged['responded_2023']\n",
    "\n",
    "for col in AHA_IT_df.columns:\n",
    "    if col in ['id', 'year']:\n",
    "        continue\n",
    "    AHA_IT_prioritized[col] = merged[f'{col}_2024'].combine_first(merged[f'{col}_2023'])\n",
    "AHA_IT_df = AHA_IT_prioritized.copy()"
   ]
  },
  {
   "cell_type": "markdown",
   "metadata": {},
   "source": [
    "### 4. create master dataframe linking annual survey, geocodes, and IT data "
   ]
  },
  {
   "cell_type": "code",
   "execution_count": null,
   "metadata": {},
   "outputs": [],
   "source": [
    "# 5.1 Standardize ID columns by converting to string and removing whitespace\n",
    "AHA2023['ID'] = AHA2023['ID'].astype(str).str.replace(r\"\\s+\", \"\", regex=True)\n",
    "AHA_IT_df['id'] = AHA_IT_df['id'].astype(str).str.replace(r\"\\s+\", \"\", regex=True)\n",
    "\n"
   ]
  },
  {
   "cell_type": "code",
   "execution_count": null,
   "metadata": {},
   "outputs": [],
   "source": [
    "# 5.2 standardize column names for annnual survey data \n",
    "\n",
    "# Make a copy of the original AHA2023 DataFrame\n",
    "AHA2023_2 = AHA2023.copy()\n",
    "\n",
    "\n",
    "# Rename columns: lowercase + `_as` suffix to indicate Annual Survey source\n",
    "AHA2023_2.columns = [col.lower() + '_as' for col in AHA2023_2.columns]\n"
   ]
  },
  {
   "cell_type": "code",
   "execution_count": null,
   "metadata": {},
   "outputs": [],
   "source": [
    "# 5.3 standardize column names for IT data \n",
    "\n",
    "# Make a copy of the AHA IT dataset\n",
    "AHA_IT_2 = AHA_IT_df.copy()\n",
    "\n",
    "# Rename columns: lowercase + `_it` suffix to indicate IT Supplement source\n",
    "AHA_IT_2.columns = [col.lower() + '_it' for col in AHA_IT_2.columns]\n"
   ]
  },
  {
   "cell_type": "code",
   "execution_count": null,
   "metadata": {},
   "outputs": [],
   "source": [
    "## 5.4 Merge AHA Annual Survey andIT Supplement\n",
    "\n",
    "# This step merges:\n",
    "# AHA Annual Survey (`AHA2023_2`) with the IT Supplement (`AHA_IT_2`) using hospital ID.\n"
   ]
  },
  {
   "cell_type": "code",
   "execution_count": null,
   "metadata": {},
   "outputs": [],
   "source": [
    "# Merge AHA Annual Survey with IT Supplement data\n",
    "AHA_AS_IT_joined = AHA2023_2.merge(AHA_IT_2, left_on='id_as', right_on='id_it', how='left')\n"
   ]
  },
  {
   "cell_type": "code",
   "execution_count": null,
   "metadata": {},
   "outputs": [],
   "source": [
    "# Use the functions to calculate the core and friction index (refer to the cited source)\n",
    "AHA_AS_IT_joined['core_index'] = AHA_AS_IT_joined.apply(calculate_interoperability.calculate_core_index, axis=1)\n",
    "AHA_AS_IT_joined['friction_index'] = AHA_AS_IT_joined.apply(calculate_interoperability.calculate_friction_index, axis=1)"
   ]
  },
  {
   "cell_type": "code",
   "execution_count": null,
   "metadata": {},
   "outputs": [],
   "source": [
    "# 5.5 Save the final merged dataset to CSV (excluding the index column)\n",
    "AHA_AS_IT_joined.to_csv('./data/AHA20232024_master.csv', index=False)\n"
   ]
  }
 ],
 "metadata": {
  "kernelspec": {
   "display_name": "geo_env",
   "language": "python",
   "name": "python3"
  },
  "language_info": {
   "codemirror_mode": {
    "name": "ipython",
    "version": 3
   },
   "file_extension": ".py",
   "mimetype": "text/x-python",
   "name": "python",
   "nbconvert_exporter": "python",
   "pygments_lexer": "ipython3",
   "version": "3.11.11"
  }
 },
 "nbformat": 4,
 "nbformat_minor": 2
}
