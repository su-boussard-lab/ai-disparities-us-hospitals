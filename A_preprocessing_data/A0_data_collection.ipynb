{
 "cells": [
  {
   "cell_type": "markdown",
   "id": "d4bc0197",
   "metadata": {},
   "source": [
    "## A0_data_collection\n",
    "\n",
    "This notebook documents the data collection steps for all raw datasets used in the project.  \n",
    "- Most datasets were downloaded manually.\n",
    "- AHA Annual Survey: requires manual download via Wharton Research Data Services (WRDS) portal.\n",
    "- AHA IT Supplement: downloaded via WRDS cloud.\n",
    "- Other data (e.g., CMS, geospatial): downloaded from public repositories.\n",
    "- Preprocessing steps are explained in subsequent notebooks. \n"
   ]
  },
  {
   "cell_type": "markdown",
   "id": "ada8bc29",
   "metadata": {},
   "source": [
    "#### AHA Annual Survey Data Collection \n",
    "- AHA access was requested through WRDS \n",
    "- no software needed. Annual Survey data was not available in the WRDS Cloud"
   ]
  },
  {
   "cell_type": "markdown",
   "id": "30e4abd9",
   "metadata": {
    "vscode": {
     "languageId": "plaintext"
    }
   },
   "source": [
    "#### AHA IT Supplement Data Collection \n",
    "- AHA access was requested through WRDS \n",
    "- requires initial set up following WRDS website https://wrds-www.wharton.upenn.edu/pages/support/programming-wrds/programming-python/python-wrds-cloud/"
   ]
  },
  {
   "cell_type": "code",
   "execution_count": null,
   "id": "378acf96",
   "metadata": {},
   "outputs": [],
   "source": [
    "# AHA IT Supplement Data Collection \n",
    "import wrds\n",
    "db = wrds.Connection()\n",
    "data = db.raw_sql('SELECT * FROM aha_it_survey_3years.it_survey_3years')\n",
    "# save the recent 3 years of IT survey data \n",
    "data.to_csv('aha_it_survey_3years.csv', index=False)"
   ]
  },
  {
   "cell_type": "markdown",
   "id": "e9063cfb",
   "metadata": {},
   "source": [
    "#### Dartmouth Atlas Data \n",
    "- used the most recent ZIP Code Crosswalk (https://data.dartmouthatlas.org/downloads/geography/ZipHsaHrr19.csv.zip)\n",
    "- HSA geographic boundary data (https://data.dartmouthatlas.org/downloads/geography/HSA_Bdry__AK_HI_unmodified.zip)"
   ]
  },
  {
   "cell_type": "markdown",
   "id": "8c2ea24a",
   "metadata": {},
   "source": [
    "#### Area Deprivation Index \n",
    "- Requires login to the Neighborhood Atlas (https://www.neighborhoodatlas.medicine.wisc.edu/)\n",
    "- Downloaded 2023 individual states zipcode ADI"
   ]
  },
  {
   "cell_type": "markdown",
   "id": "6552635e",
   "metadata": {},
   "source": [
    "#### Social Vulnerability Index \n",
    "- Year: 2022, Geography: United States, Geography Type: ZIP Code Tabulation Areas https://www.atsdr.cdc.gov/place-health/php/svi/svi-data-documentation-download.html"
   ]
  },
  {
   "cell_type": "markdown",
   "id": "9907fcb2",
   "metadata": {},
   "source": [
    "#### Health Professional Shortage Area and Medically UnderServed area \n",
    "- Primary Care Area HPSA Designation Boundaries SHP (https://data.hrsa.gov//DataDownload/DD_Files/HPSA_PLYPC_SHP.zip)\n",
    "- Dental Care Area HPSA Designation Boundaries SHP (https://data.hrsa.gov//DataDownload/DD_Files/HPSA_PLYDH_SHP.zip)\n",
    "- Mental Health Care Area HPSA Designation Boundaries SHP (https://data.hrsa.gov//DataDownload/DD_Files/HPSA_PLYMH_SHP.zip)\n",
    "- Medically Underserved Area Designation Boundaries SHP (https://data.hrsa.gov//DataDownload/DD_Files/MUA_SHP.zip)"
   ]
  },
  {
   "cell_type": "markdown",
   "id": "410a6739",
   "metadata": {},
   "source": [
    "#### County Digital Infrastructure \n",
    "- used Census API "
   ]
  },
  {
   "cell_type": "code",
   "execution_count": null,
   "id": "fd04afaf",
   "metadata": {},
   "outputs": [],
   "source": [
    "import requests\n",
    "import pandas as pd\n",
    "\n",
    "# Set up\n",
    "API_KEY = \" API KEY\"\n",
    "url = \"https://api.census.gov/data/2023/acs/acs5\"\n",
    "params = {\n",
    "    \"get\": \"NAME,B28001_001E,B28001_002E,B28001_008E,B28002_001E,B28002_008E,B28002_004E,B28002_002E,B28002_013E\",\n",
    "    \"for\": \"county:*\",\n",
    "    \"in\": \"state:*\",\n",
    "    \"key\": API_KEY\n",
    "}\n",
    "\n",
    "# Request data\n",
    "response = requests.get(url, params=params)\n",
    "data = response.json()\n",
    "\n",
    "# Convert to DataFrame\n",
    "internet_access = pd.DataFrame(data[1:], columns=data[0])\n",
    "\n",
    "# Rename columns for clarity\n",
    "internet_access = internet_access.rename(columns={\n",
    "    \"NAME\": \"County\",\n",
    "    \"B28001_001E\": \"Total_Computer_Households\",\n",
    "    \"B28001_002E\": \"at_least_1_device\",\n",
    "    \"B28001_008E\": \"no_device\",\n",
    "    \"B28002_001E\": \"Total_Internet_Households\",\n",
    "    \"B28002_004E\": \"With_Broadband\",\n",
    "    \"B28002_002E\": \"Internet_Access\",\n",
    "    \"B28002_013E\" : \"No_Internet\",\n",
    "\n",
    "    \"state\": \"State_Code\",\n",
    "    \"county\": \"County_Code\"\n",
    "})\n",
    "\n",
    "# Convert numeric columns\n",
    "for col in [\"Total_Computer_Households\", \"at_least_1_device\", \"no_device\", \"Total_Internet_Households\", \"With_Broadband\", \"No_Internet\"]:\n",
    "    internet_access[col] = pd.to_numeric(internet_access[col])\n",
    "\n",
    "# Calculate broadband percent\n",
    "internet_access[\"Device_Percent\"] = (internet_access[\"at_least_1_device\"] / internet_access[\"Total_Computer_Households\"] * 100).round(2)\n",
    "internet_access[\"Broadband_Percent\"] = (internet_access[\"With_Broadband\"] / internet_access[\"Total_Internet_Households\"] * 100).round(2)\n",
    "internet_access[\"Internet_Percent\"] = (\n",
    "    (1 - internet_access[\"No_Internet\"] / internet_access[\"Total_Internet_Households\"]) * 100\n",
    ").round(2)\n",
    "\n",
    "# Preview\n",
    "print(internet_access.head())\n"
   ]
  },
  {
   "cell_type": "markdown",
   "id": "671354d3",
   "metadata": {},
   "source": [
    "#### CMS Hospital Quality \n",
    "- https://data.cms.gov/provider-data/archived-data/hospitals\n",
    "- 14 quarterly timepoints from 2022 to 2025 2Q \n",
    "- there are 5 data snapshots for 2023. To maintain consistency we used 10/06/2023 for 4Q "
   ]
  }
 ],
 "metadata": {
  "kernelspec": {
   "display_name": "geo_env",
   "language": "python",
   "name": "python3"
  },
  "language_info": {
   "codemirror_mode": {
    "name": "ipython",
    "version": 3
   },
   "file_extension": ".py",
   "mimetype": "text/x-python",
   "name": "python",
   "nbconvert_exporter": "python",
   "pygments_lexer": "ipython3",
   "version": "3.11.11"
  }
 },
 "nbformat": 4,
 "nbformat_minor": 5
}
